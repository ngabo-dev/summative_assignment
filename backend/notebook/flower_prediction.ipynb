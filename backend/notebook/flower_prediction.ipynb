{
 "cells": [
  {
   "cell_type": "markdown",
   "metadata": {},
   "source": [
    "# Flower Classification Training Notebook\n",
    "Optimized CNN model for classifying flower images (rose, tulip, sunflower) with enhanced training pipeline."
   ]
  },
  {
   "cell_type": "markdown",
   "metadata": {},
   "source": [
    "## 1. Environment Setup"
   ]
  },
  {
   "cell_type": "code",
   "execution_count": 1,
   "metadata": {},
   "outputs": [
    {
     "name": "stderr",
     "output_type": "stream",
     "text": [
      "2025-08-05 17:12:20.827741: I external/local_tsl/tsl/cuda/cudart_stub.cc:32] Could not find cuda drivers on your machine, GPU will not be used.\n",
      "2025-08-05 17:12:20.835888: I external/local_tsl/tsl/cuda/cudart_stub.cc:32] Could not find cuda drivers on your machine, GPU will not be used.\n",
      "2025-08-05 17:12:20.962687: I tensorflow/core/platform/cpu_feature_guard.cc:210] This TensorFlow binary is optimized to use available CPU instructions in performance-critical operations.\n",
      "To enable the following instructions: AVX2 FMA, in other operations, rebuild TensorFlow with the appropriate compiler flags.\n",
      "2025-08-05 17:12:22.983009: W tensorflow/compiler/tf2tensorrt/utils/py_utils.cc:38] TF-TRT Warning: Could not find TensorRT\n"
     ]
    },
    {
     "name": "stdout",
     "output_type": "stream",
     "text": [
      "✅ TensorFlow 2.16.1\n",
      "✅ GPU available: False\n"
     ]
    }
   ],
   "source": [
    "# Core imports\n",
    "import os\n",
    "import sys\n",
    "import json\n",
    "import numpy as np\n",
    "import matplotlib.pyplot as plt\n",
    "import seaborn as sns\n",
    "from datetime import datetime\n",
    "import warnings\n",
    "warnings.filterwarnings('ignore')\n",
    "\n",
    "# ML imports\n",
    "import tensorflow as tf\n",
    "from tensorflow.keras.optimizers import Adam\n",
    "from tensorflow.keras.callbacks import EarlyStopping, ReduceLROnPlateau, ModelCheckpoint\n",
    "from sklearn.metrics import classification_report, confusion_matrix\n",
    "\n",
    "# Verify TensorFlow and GPU\n",
    "print(f\"✅ TensorFlow {tf.__version__}\")\n",
    "gpu_available = len(tf.config.list_physical_devices('GPU')) > 0\n",
    "print(f\"✅ GPU available: {gpu_available}\")\n",
    "\n",
    "# Optimizations\n",
    "if gpu_available:\n",
    "    tf.config.experimental.set_memory_growth(tf.config.list_physical_devices('GPU')[0], True)\n",
    "tf.config.optimizer.set_jit(True)\n",
    "os.environ['TF_CPP_MIN_LOG_LEVEL'] = '2'"
   ]
  },
  {
   "cell_type": "markdown",
   "metadata": {},
   "source": [
    "## 2. Configuration"
   ]
  },
  {
   "cell_type": "code",
   "execution_count": 2,
   "metadata": {},
   "outputs": [
    {
     "name": "stdout",
     "output_type": "stream",
     "text": [
      "⚙️ Configuration:\n",
      "  INPUT_SIZE               : (160, 160)\n",
      "  BATCH_SIZE               : 32\n",
      "  EPOCHS                   : 30\n",
      "  LEARNING_RATE            : 0.001\n",
      "  VALIDATION_SPLIT         : 0.2\n",
      "  EARLY_STOPPING_PATIENCE  : 5\n",
      "  REDUCE_LR_PATIENCE       : 3\n",
      "  CLASS_NAMES              : ['rose', 'tulip', 'sunflower']\n",
      "  AUGMENTATION             : True\n",
      "\n",
      "📁 Data directory: /home/ngabotech/Desktop/Flower_classification/backend/data\n",
      "📁 Models directory: /home/ngabotech/Desktop/Flower_classification/backend/models\n"
     ]
    }
   ],
   "source": [
    "# Training configuration\n",
    "CONFIG = {\n",
    "    'INPUT_SIZE': (160, 160),      # Increased from 128x128 for better feature extraction\n",
    "    'BATCH_SIZE': 32,             \n",
    "    'EPOCHS': 30,                  # Increased with early stopping\n",
    "    'LEARNING_RATE': 0.001,        # More stable learning rate\n",
    "    'VALIDATION_SPLIT': 0.2,\n",
    "    'EARLY_STOPPING_PATIENCE': 5,  # More patience for convergence\n",
    "    'REDUCE_LR_PATIENCE': 3,       \n",
    "    'CLASS_NAMES': ['rose', 'tulip', 'sunflower'],\n",
    "    'AUGMENTATION': True           # Explicit augmentation flag\n",
    "}\n",
    "\n",
    "# Directory setup\n",
    "BASE_DIR = os.path.dirname(os.path.abspath('.'))\n",
    "DATA_DIR = os.path.join(BASE_DIR, 'data')\n",
    "MODELS_DIR = os.path.join(BASE_DIR, 'models')\n",
    "\n",
    "# Create directories with proper path handling\n",
    "os.makedirs(DATA_DIR, exist_ok=True)\n",
    "os.makedirs(MODELS_DIR, exist_ok=True)\n",
    "for split in ['train', 'test', 'validation', 'uploads']:\n",
    "    os.makedirs(os.path.join(DATA_DIR, split), exist_ok=True)\n",
    "    for class_name in CONFIG['CLASS_NAMES']:\n",
    "        os.makedirs(os.path.join(DATA_DIR, split, class_name), exist_ok=True)\n",
    "\n",
    "print(\"⚙️ Configuration:\")\n",
    "for key, value in CONFIG.items():\n",
    "    print(f\"  {key:<25}: {value}\")\n",
    "print(f\"\\n📁 Data directory: {DATA_DIR}\")\n",
    "print(f\"📁 Models directory: {MODELS_DIR}\")"
   ]
  },
  {
   "cell_type": "markdown",
   "metadata": {},
   "source": [
    "## 3. Data Preparation"
   ]
  },
  {
   "cell_type": "code",
   "execution_count": 3,
   "metadata": {},
   "outputs": [],
   "source": [
    "class DataPreprocessor:\n",
    "    def __init__(self, data_dir, target_size):\n",
    "        self.data_dir = data_dir\n",
    "        self.target_size = target_size\n",
    "        self.class_names = CONFIG['CLASS_NAMES']\n",
    "        \n",
    "    def get_dataset_statistics(self):\n",
    "        stats = {'total_images': 0, 'class_distribution': {}}\n",
    "        \n",
    "        for split in ['train', 'test', 'validation']:\n",
    "            split_count = 0\n",
    "            for class_name in self.class_names:\n",
    "                class_dir = os.path.join(self.data_dir, split, class_name)\n",
    "                if os.path.exists(class_dir):\n",
    "                    num_images = len([f for f in os.listdir(class_dir) \n",
    "                                    if f.lower().endswith(('.png', '.jpg', '.jpeg'))])\n",
    "                    stats['class_distribution'].setdefault(class_name, {}).update({\n",
    "                        split: num_images\n",
    "                    })\n",
    "                    split_count += num_images\n",
    "            stats[f'{split}_images'] = split_count\n",
    "            stats['total_images'] += split_count\n",
    "            \n",
    "        # Calculate dataset health metrics\n",
    "        class_counts = [sum(v.values()) for v in stats['class_distribution'].values()]\n",
    "        stats['balance_ratio'] = min(class_counts) / max(class_counts) if class_counts else 0\n",
    "        stats['dataset_health'] = 'good' if stats['balance_ratio'] > 0.7 else 'imbalanced'\n",
    "        \n",
    "        return stats\n",
    "    \n",
    "    def create_data_generators(self, augmentation=True):\n",
    "        train_datagen = tf.keras.preprocessing.image.ImageDataGenerator(\n",
    "            rescale=1./255,\n",
    "            rotation_range=20,\n",
    "            width_shift_range=0.2,\n",
    "            height_shift_range=0.2,\n",
    "            shear_range=0.2,\n",
    "            zoom_range=0.2,\n",
    "            horizontal_flip=True,\n",
    "            fill_mode='nearest',\n",
    "            validation_split=CONFIG['VALIDATION_SPLIT']\n",
    "        ) if augmentation else tf.keras.preprocessing.image.ImageDataGenerator(rescale=1./255)\n",
    "        \n",
    "        test_datagen = tf.keras.preprocessing.image.ImageDataGenerator(rescale=1./255)\n",
    "        \n",
    "        train_generator = train_datagen.flow_from_directory(\n",
    "            os.path.join(self.data_dir, 'train'),\n",
    "            target_size=self.target_size,\n",
    "            batch_size=CONFIG['BATCH_SIZE'],\n",
    "            class_mode='categorical',\n",
    "            subset='training'\n",
    "        )\n",
    "        \n",
    "        val_generator = train_datagen.flow_from_directory(\n",
    "            os.path.join(self.data_dir, 'train'),\n",
    "            target_size=self.target_size,\n",
    "            batch_size=CONFIG['BATCH_SIZE'],\n",
    "            class_mode='categorical',\n",
    "            subset='validation'\n",
    "        )\n",
    "        \n",
    "        test_generator = test_datagen.flow_from_directory(\n",
    "            os.path.join(self.data_dir, 'test'),\n",
    "            target_size=self.target_size,\n",
    "            batch_size=CONFIG['BATCH_SIZE'],\n",
    "            class_mode='categorical',\n",
    "            shuffle=False\n",
    "        )\n",
    "        \n",
    "        return train_generator, val_generator, test_generator\n",
    "    \n",
    "    def get_class_weights(self):\n",
    "        stats = self.get_dataset_statistics()\n",
    "        class_counts = [sum(v.values()) for v in stats['class_distribution'].values()]\n",
    "        total = sum(class_counts)\n",
    "        return {i: total/(len(class_counts)*count) for i, count in enumerate(class_counts)}"
   ]
  },
  {
   "cell_type": "code",
   "execution_count": 4,
   "metadata": {},
   "outputs": [
    {
     "name": "stdout",
     "output_type": "stream",
     "text": [
      "📊 Dataset Statistics:\n",
      "  Total images: 2786\n",
      "  Training images: 2576\n",
      "  Validation images: 0\n",
      "  Test images: 210\n",
      "  Dataset health: good (balance ratio: 0.77)\n",
      "Found 2063 images belonging to 3 classes.\n",
      "Found 514 images belonging to 3 classes.\n",
      "Found 210 images belonging to 3 classes.\n",
      "\n",
      "✅ Data generators created with 2063 training samples\n",
      "   Class indices: {'rose': 0, 'sunflower': 1, 'tulip': 2}\n",
      "   Batch size: 32\n",
      "   Augmentation: ON\n"
     ]
    }
   ],
   "source": [
    "# Initialize and check data\n",
    "preprocessor = DataPreprocessor(DATA_DIR, CONFIG['INPUT_SIZE'])\n",
    "stats = preprocessor.get_dataset_statistics()\n",
    "\n",
    "print(\"📊 Dataset Statistics:\")\n",
    "print(f\"  Total images: {stats['total_images']}\")\n",
    "print(f\"  Training images: {stats['train_images']}\")\n",
    "print(f\"  Validation images: {stats.get('validation_images', 0)}\")\n",
    "print(f\"  Test images: {stats['test_images']}\")\n",
    "print(f\"  Dataset health: {stats['dataset_health']} (balance ratio: {stats['balance_ratio']:.2f})\")\n",
    "\n",
    "if stats['total_images'] == 0:\n",
    "    raise ValueError(\"No images found in dataset directories. Please add training data.\")\n",
    "\n",
    "# Create data generators\n",
    "train_gen, val_gen, test_gen = preprocessor.create_data_generators(\n",
    "    augmentation=CONFIG['AUGMENTATION']\n",
    ")\n",
    "\n",
    "print(f\"\\n✅ Data generators created with {len(train_gen.classes)} training samples\")\n",
    "print(f\"   Class indices: {train_gen.class_indices}\")\n",
    "print(f\"   Batch size: {CONFIG['BATCH_SIZE']}\")\n",
    "print(f\"   Augmentation: {'ON' if CONFIG['AUGMENTATION'] else 'OFF'}\")"
   ]
  },
  {
   "cell_type": "markdown",
   "metadata": {},
   "source": [
    "## 4. Model Creation"
   ]
  },
  {
   "cell_type": "code",
   "execution_count": 5,
   "metadata": {},
   "outputs": [
    {
     "data": {
      "text/html": [
       "<pre style=\"white-space:pre;overflow-x:auto;line-height:normal;font-family:Menlo,'DejaVu Sans Mono',consolas,'Courier New',monospace\"><span style=\"font-weight: bold\">Model: \"sequential\"</span>\n",
       "</pre>\n"
      ],
      "text/plain": [
       "\u001b[1mModel: \"sequential\"\u001b[0m\n"
      ]
     },
     "metadata": {},
     "output_type": "display_data"
    },
    {
     "data": {
      "text/html": [
       "<pre style=\"white-space:pre;overflow-x:auto;line-height:normal;font-family:Menlo,'DejaVu Sans Mono',consolas,'Courier New',monospace\">┏━━━━━━━━━━━━━━━━━━━━━━━━━━━━━━━━━┳━━━━━━━━━━━━━━━━━━━━━━━━┳━━━━━━━━━━━━━━━┓\n",
       "┃<span style=\"font-weight: bold\"> Layer (type)                    </span>┃<span style=\"font-weight: bold\"> Output Shape           </span>┃<span style=\"font-weight: bold\">       Param # </span>┃\n",
       "┡━━━━━━━━━━━━━━━━━━━━━━━━━━━━━━━━━╇━━━━━━━━━━━━━━━━━━━━━━━━╇━━━━━━━━━━━━━━━┩\n",
       "│ conv2d (<span style=\"color: #0087ff; text-decoration-color: #0087ff\">Conv2D</span>)                 │ (<span style=\"color: #00d7ff; text-decoration-color: #00d7ff\">None</span>, <span style=\"color: #00af00; text-decoration-color: #00af00\">158</span>, <span style=\"color: #00af00; text-decoration-color: #00af00\">158</span>, <span style=\"color: #00af00; text-decoration-color: #00af00\">32</span>)   │           <span style=\"color: #00af00; text-decoration-color: #00af00\">896</span> │\n",
       "├─────────────────────────────────┼────────────────────────┼───────────────┤\n",
       "│ batch_normalization             │ (<span style=\"color: #00d7ff; text-decoration-color: #00d7ff\">None</span>, <span style=\"color: #00af00; text-decoration-color: #00af00\">158</span>, <span style=\"color: #00af00; text-decoration-color: #00af00\">158</span>, <span style=\"color: #00af00; text-decoration-color: #00af00\">32</span>)   │           <span style=\"color: #00af00; text-decoration-color: #00af00\">128</span> │\n",
       "│ (<span style=\"color: #0087ff; text-decoration-color: #0087ff\">BatchNormalization</span>)            │                        │               │\n",
       "├─────────────────────────────────┼────────────────────────┼───────────────┤\n",
       "│ max_pooling2d (<span style=\"color: #0087ff; text-decoration-color: #0087ff\">MaxPooling2D</span>)    │ (<span style=\"color: #00d7ff; text-decoration-color: #00d7ff\">None</span>, <span style=\"color: #00af00; text-decoration-color: #00af00\">79</span>, <span style=\"color: #00af00; text-decoration-color: #00af00\">79</span>, <span style=\"color: #00af00; text-decoration-color: #00af00\">32</span>)     │             <span style=\"color: #00af00; text-decoration-color: #00af00\">0</span> │\n",
       "├─────────────────────────────────┼────────────────────────┼───────────────┤\n",
       "│ conv2d_1 (<span style=\"color: #0087ff; text-decoration-color: #0087ff\">Conv2D</span>)               │ (<span style=\"color: #00d7ff; text-decoration-color: #00d7ff\">None</span>, <span style=\"color: #00af00; text-decoration-color: #00af00\">77</span>, <span style=\"color: #00af00; text-decoration-color: #00af00\">77</span>, <span style=\"color: #00af00; text-decoration-color: #00af00\">64</span>)     │        <span style=\"color: #00af00; text-decoration-color: #00af00\">18,496</span> │\n",
       "├─────────────────────────────────┼────────────────────────┼───────────────┤\n",
       "│ batch_normalization_1           │ (<span style=\"color: #00d7ff; text-decoration-color: #00d7ff\">None</span>, <span style=\"color: #00af00; text-decoration-color: #00af00\">77</span>, <span style=\"color: #00af00; text-decoration-color: #00af00\">77</span>, <span style=\"color: #00af00; text-decoration-color: #00af00\">64</span>)     │           <span style=\"color: #00af00; text-decoration-color: #00af00\">256</span> │\n",
       "│ (<span style=\"color: #0087ff; text-decoration-color: #0087ff\">BatchNormalization</span>)            │                        │               │\n",
       "├─────────────────────────────────┼────────────────────────┼───────────────┤\n",
       "│ max_pooling2d_1 (<span style=\"color: #0087ff; text-decoration-color: #0087ff\">MaxPooling2D</span>)  │ (<span style=\"color: #00d7ff; text-decoration-color: #00d7ff\">None</span>, <span style=\"color: #00af00; text-decoration-color: #00af00\">38</span>, <span style=\"color: #00af00; text-decoration-color: #00af00\">38</span>, <span style=\"color: #00af00; text-decoration-color: #00af00\">64</span>)     │             <span style=\"color: #00af00; text-decoration-color: #00af00\">0</span> │\n",
       "├─────────────────────────────────┼────────────────────────┼───────────────┤\n",
       "│ conv2d_2 (<span style=\"color: #0087ff; text-decoration-color: #0087ff\">Conv2D</span>)               │ (<span style=\"color: #00d7ff; text-decoration-color: #00d7ff\">None</span>, <span style=\"color: #00af00; text-decoration-color: #00af00\">36</span>, <span style=\"color: #00af00; text-decoration-color: #00af00\">36</span>, <span style=\"color: #00af00; text-decoration-color: #00af00\">128</span>)    │        <span style=\"color: #00af00; text-decoration-color: #00af00\">73,856</span> │\n",
       "├─────────────────────────────────┼────────────────────────┼───────────────┤\n",
       "│ batch_normalization_2           │ (<span style=\"color: #00d7ff; text-decoration-color: #00d7ff\">None</span>, <span style=\"color: #00af00; text-decoration-color: #00af00\">36</span>, <span style=\"color: #00af00; text-decoration-color: #00af00\">36</span>, <span style=\"color: #00af00; text-decoration-color: #00af00\">128</span>)    │           <span style=\"color: #00af00; text-decoration-color: #00af00\">512</span> │\n",
       "│ (<span style=\"color: #0087ff; text-decoration-color: #0087ff\">BatchNormalization</span>)            │                        │               │\n",
       "├─────────────────────────────────┼────────────────────────┼───────────────┤\n",
       "│ max_pooling2d_2 (<span style=\"color: #0087ff; text-decoration-color: #0087ff\">MaxPooling2D</span>)  │ (<span style=\"color: #00d7ff; text-decoration-color: #00d7ff\">None</span>, <span style=\"color: #00af00; text-decoration-color: #00af00\">18</span>, <span style=\"color: #00af00; text-decoration-color: #00af00\">18</span>, <span style=\"color: #00af00; text-decoration-color: #00af00\">128</span>)    │             <span style=\"color: #00af00; text-decoration-color: #00af00\">0</span> │\n",
       "├─────────────────────────────────┼────────────────────────┼───────────────┤\n",
       "│ global_average_pooling2d        │ (<span style=\"color: #00d7ff; text-decoration-color: #00d7ff\">None</span>, <span style=\"color: #00af00; text-decoration-color: #00af00\">128</span>)            │             <span style=\"color: #00af00; text-decoration-color: #00af00\">0</span> │\n",
       "│ (<span style=\"color: #0087ff; text-decoration-color: #0087ff\">GlobalAveragePooling2D</span>)        │                        │               │\n",
       "├─────────────────────────────────┼────────────────────────┼───────────────┤\n",
       "│ dense (<span style=\"color: #0087ff; text-decoration-color: #0087ff\">Dense</span>)                   │ (<span style=\"color: #00d7ff; text-decoration-color: #00d7ff\">None</span>, <span style=\"color: #00af00; text-decoration-color: #00af00\">256</span>)            │        <span style=\"color: #00af00; text-decoration-color: #00af00\">33,024</span> │\n",
       "├─────────────────────────────────┼────────────────────────┼───────────────┤\n",
       "│ dropout (<span style=\"color: #0087ff; text-decoration-color: #0087ff\">Dropout</span>)               │ (<span style=\"color: #00d7ff; text-decoration-color: #00d7ff\">None</span>, <span style=\"color: #00af00; text-decoration-color: #00af00\">256</span>)            │             <span style=\"color: #00af00; text-decoration-color: #00af00\">0</span> │\n",
       "├─────────────────────────────────┼────────────────────────┼───────────────┤\n",
       "│ dense_1 (<span style=\"color: #0087ff; text-decoration-color: #0087ff\">Dense</span>)                 │ (<span style=\"color: #00d7ff; text-decoration-color: #00d7ff\">None</span>, <span style=\"color: #00af00; text-decoration-color: #00af00\">3</span>)              │           <span style=\"color: #00af00; text-decoration-color: #00af00\">771</span> │\n",
       "└─────────────────────────────────┴────────────────────────┴───────────────┘\n",
       "</pre>\n"
      ],
      "text/plain": [
       "┏━━━━━━━━━━━━━━━━━━━━━━━━━━━━━━━━━┳━━━━━━━━━━━━━━━━━━━━━━━━┳━━━━━━━━━━━━━━━┓\n",
       "┃\u001b[1m \u001b[0m\u001b[1mLayer (type)                   \u001b[0m\u001b[1m \u001b[0m┃\u001b[1m \u001b[0m\u001b[1mOutput Shape          \u001b[0m\u001b[1m \u001b[0m┃\u001b[1m \u001b[0m\u001b[1m      Param #\u001b[0m\u001b[1m \u001b[0m┃\n",
       "┡━━━━━━━━━━━━━━━━━━━━━━━━━━━━━━━━━╇━━━━━━━━━━━━━━━━━━━━━━━━╇━━━━━━━━━━━━━━━┩\n",
       "│ conv2d (\u001b[38;5;33mConv2D\u001b[0m)                 │ (\u001b[38;5;45mNone\u001b[0m, \u001b[38;5;34m158\u001b[0m, \u001b[38;5;34m158\u001b[0m, \u001b[38;5;34m32\u001b[0m)   │           \u001b[38;5;34m896\u001b[0m │\n",
       "├─────────────────────────────────┼────────────────────────┼───────────────┤\n",
       "│ batch_normalization             │ (\u001b[38;5;45mNone\u001b[0m, \u001b[38;5;34m158\u001b[0m, \u001b[38;5;34m158\u001b[0m, \u001b[38;5;34m32\u001b[0m)   │           \u001b[38;5;34m128\u001b[0m │\n",
       "│ (\u001b[38;5;33mBatchNormalization\u001b[0m)            │                        │               │\n",
       "├─────────────────────────────────┼────────────────────────┼───────────────┤\n",
       "│ max_pooling2d (\u001b[38;5;33mMaxPooling2D\u001b[0m)    │ (\u001b[38;5;45mNone\u001b[0m, \u001b[38;5;34m79\u001b[0m, \u001b[38;5;34m79\u001b[0m, \u001b[38;5;34m32\u001b[0m)     │             \u001b[38;5;34m0\u001b[0m │\n",
       "├─────────────────────────────────┼────────────────────────┼───────────────┤\n",
       "│ conv2d_1 (\u001b[38;5;33mConv2D\u001b[0m)               │ (\u001b[38;5;45mNone\u001b[0m, \u001b[38;5;34m77\u001b[0m, \u001b[38;5;34m77\u001b[0m, \u001b[38;5;34m64\u001b[0m)     │        \u001b[38;5;34m18,496\u001b[0m │\n",
       "├─────────────────────────────────┼────────────────────────┼───────────────┤\n",
       "│ batch_normalization_1           │ (\u001b[38;5;45mNone\u001b[0m, \u001b[38;5;34m77\u001b[0m, \u001b[38;5;34m77\u001b[0m, \u001b[38;5;34m64\u001b[0m)     │           \u001b[38;5;34m256\u001b[0m │\n",
       "│ (\u001b[38;5;33mBatchNormalization\u001b[0m)            │                        │               │\n",
       "├─────────────────────────────────┼────────────────────────┼───────────────┤\n",
       "│ max_pooling2d_1 (\u001b[38;5;33mMaxPooling2D\u001b[0m)  │ (\u001b[38;5;45mNone\u001b[0m, \u001b[38;5;34m38\u001b[0m, \u001b[38;5;34m38\u001b[0m, \u001b[38;5;34m64\u001b[0m)     │             \u001b[38;5;34m0\u001b[0m │\n",
       "├─────────────────────────────────┼────────────────────────┼───────────────┤\n",
       "│ conv2d_2 (\u001b[38;5;33mConv2D\u001b[0m)               │ (\u001b[38;5;45mNone\u001b[0m, \u001b[38;5;34m36\u001b[0m, \u001b[38;5;34m36\u001b[0m, \u001b[38;5;34m128\u001b[0m)    │        \u001b[38;5;34m73,856\u001b[0m │\n",
       "├─────────────────────────────────┼────────────────────────┼───────────────┤\n",
       "│ batch_normalization_2           │ (\u001b[38;5;45mNone\u001b[0m, \u001b[38;5;34m36\u001b[0m, \u001b[38;5;34m36\u001b[0m, \u001b[38;5;34m128\u001b[0m)    │           \u001b[38;5;34m512\u001b[0m │\n",
       "│ (\u001b[38;5;33mBatchNormalization\u001b[0m)            │                        │               │\n",
       "├─────────────────────────────────┼────────────────────────┼───────────────┤\n",
       "│ max_pooling2d_2 (\u001b[38;5;33mMaxPooling2D\u001b[0m)  │ (\u001b[38;5;45mNone\u001b[0m, \u001b[38;5;34m18\u001b[0m, \u001b[38;5;34m18\u001b[0m, \u001b[38;5;34m128\u001b[0m)    │             \u001b[38;5;34m0\u001b[0m │\n",
       "├─────────────────────────────────┼────────────────────────┼───────────────┤\n",
       "│ global_average_pooling2d        │ (\u001b[38;5;45mNone\u001b[0m, \u001b[38;5;34m128\u001b[0m)            │             \u001b[38;5;34m0\u001b[0m │\n",
       "│ (\u001b[38;5;33mGlobalAveragePooling2D\u001b[0m)        │                        │               │\n",
       "├─────────────────────────────────┼────────────────────────┼───────────────┤\n",
       "│ dense (\u001b[38;5;33mDense\u001b[0m)                   │ (\u001b[38;5;45mNone\u001b[0m, \u001b[38;5;34m256\u001b[0m)            │        \u001b[38;5;34m33,024\u001b[0m │\n",
       "├─────────────────────────────────┼────────────────────────┼───────────────┤\n",
       "│ dropout (\u001b[38;5;33mDropout\u001b[0m)               │ (\u001b[38;5;45mNone\u001b[0m, \u001b[38;5;34m256\u001b[0m)            │             \u001b[38;5;34m0\u001b[0m │\n",
       "├─────────────────────────────────┼────────────────────────┼───────────────┤\n",
       "│ dense_1 (\u001b[38;5;33mDense\u001b[0m)                 │ (\u001b[38;5;45mNone\u001b[0m, \u001b[38;5;34m3\u001b[0m)              │           \u001b[38;5;34m771\u001b[0m │\n",
       "└─────────────────────────────────┴────────────────────────┴───────────────┘\n"
      ]
     },
     "metadata": {},
     "output_type": "display_data"
    },
    {
     "data": {
      "text/html": [
       "<pre style=\"white-space:pre;overflow-x:auto;line-height:normal;font-family:Menlo,'DejaVu Sans Mono',consolas,'Courier New',monospace\"><span style=\"font-weight: bold\"> Total params: </span><span style=\"color: #00af00; text-decoration-color: #00af00\">127,939</span> (499.76 KB)\n",
       "</pre>\n"
      ],
      "text/plain": [
       "\u001b[1m Total params: \u001b[0m\u001b[38;5;34m127,939\u001b[0m (499.76 KB)\n"
      ]
     },
     "metadata": {},
     "output_type": "display_data"
    },
    {
     "data": {
      "text/html": [
       "<pre style=\"white-space:pre;overflow-x:auto;line-height:normal;font-family:Menlo,'DejaVu Sans Mono',consolas,'Courier New',monospace\"><span style=\"font-weight: bold\"> Trainable params: </span><span style=\"color: #00af00; text-decoration-color: #00af00\">127,491</span> (498.01 KB)\n",
       "</pre>\n"
      ],
      "text/plain": [
       "\u001b[1m Trainable params: \u001b[0m\u001b[38;5;34m127,491\u001b[0m (498.01 KB)\n"
      ]
     },
     "metadata": {},
     "output_type": "display_data"
    },
    {
     "data": {
      "text/html": [
       "<pre style=\"white-space:pre;overflow-x:auto;line-height:normal;font-family:Menlo,'DejaVu Sans Mono',consolas,'Courier New',monospace\"><span style=\"font-weight: bold\"> Non-trainable params: </span><span style=\"color: #00af00; text-decoration-color: #00af00\">448</span> (1.75 KB)\n",
       "</pre>\n"
      ],
      "text/plain": [
       "\u001b[1m Non-trainable params: \u001b[0m\u001b[38;5;34m448\u001b[0m (1.75 KB)\n"
      ]
     },
     "metadata": {},
     "output_type": "display_data"
    },
    {
     "name": "stderr",
     "output_type": "stream",
     "text": [
      "WARNING:absl:You are saving your model as an HDF5 file via `model.save()` or `keras.saving.save_model(model)`. This file format is considered legacy. We recommend using instead the native Keras format, e.g. `model.save('my_model.keras')` or `keras.saving.save_model(model, 'my_model.keras')`. \n"
     ]
    },
    {
     "name": "stdout",
     "output_type": "stream",
     "text": [
      "\n",
      "📊 Model size: 0.55 MB\n"
     ]
    }
   ],
   "source": [
    "def create_model(input_shape, num_classes):\n",
    "    model = tf.keras.Sequential([\n",
    "        # Feature extraction\n",
    "        tf.keras.layers.Conv2D(32, (3, 3), activation='relu', input_shape=input_shape),\n",
    "        tf.keras.layers.BatchNormalization(),\n",
    "        tf.keras.layers.MaxPooling2D(2, 2),\n",
    "        \n",
    "        tf.keras.layers.Conv2D(64, (3, 3), activation='relu'),\n",
    "        tf.keras.layers.BatchNormalization(),\n",
    "        tf.keras.layers.MaxPooling2D(2, 2),\n",
    "        \n",
    "        tf.keras.layers.Conv2D(128, (3, 3), activation='relu'),\n",
    "        tf.keras.layers.BatchNormalization(),\n",
    "        tf.keras.layers.MaxPooling2D(2, 2),\n",
    "        \n",
    "        # Classification head\n",
    "        tf.keras.layers.GlobalAveragePooling2D(),\n",
    "        tf.keras.layers.Dense(256, activation='relu'),\n",
    "        tf.keras.layers.Dropout(0.5),\n",
    "        tf.keras.layers.Dense(num_classes, activation='softmax')\n",
    "    ])\n",
    "    \n",
    "    model.compile(\n",
    "        optimizer=Adam(learning_rate=CONFIG['LEARNING_RATE']),\n",
    "        loss='categorical_crossentropy',\n",
    "        metrics=['accuracy', \n",
    "                tf.keras.metrics.Precision(name='precision'),\n",
    "                tf.keras.metrics.Recall(name='recall')]\n",
    "    )\n",
    "    \n",
    "    return model\n",
    "\n",
    "# Initialize model\n",
    "model = create_model(\n",
    "    input_shape=(*CONFIG['INPUT_SIZE'], 3),\n",
    "    num_classes=len(CONFIG['CLASS_NAMES'])\n",
    ")\n",
    "\n",
    "model.summary()\n",
    "\n",
    "# Calculate model size\n",
    "def get_model_size(model):\n",
    "    model.save('temp_model.h5')\n",
    "    size = os.path.getsize('temp_model.h5') / (1024 * 1024)\n",
    "    os.remove('temp_model.h5')\n",
    "    return size\n",
    "\n",
    "print(f\"\\n📊 Model size: {get_model_size(model):.2f} MB\")"
   ]
  },
  {
   "cell_type": "markdown",
   "metadata": {},
   "source": [
    "## 5. Training"
   ]
  },
  {
   "cell_type": "code",
   "execution_count": 6,
   "metadata": {},
   "outputs": [
    {
     "name": "stdout",
     "output_type": "stream",
     "text": [
      "🚀 Starting training...\n",
      "Epoch 1/30\n"
     ]
    },
    {
     "name": "stderr",
     "output_type": "stream",
     "text": [
      "2025-08-05 17:12:31.494969: W external/local_tsl/tsl/framework/cpu_allocator_impl.cc:83] Allocation of 102252544 exceeds 10% of free system memory.\n",
      "2025-08-05 17:12:31.678168: W external/local_tsl/tsl/framework/cpu_allocator_impl.cc:83] Allocation of 102252544 exceeds 10% of free system memory.\n",
      "2025-08-05 17:12:31.880231: W external/local_tsl/tsl/framework/cpu_allocator_impl.cc:83] Allocation of 102252544 exceeds 10% of free system memory.\n",
      "2025-08-05 17:12:32.066840: W external/local_tsl/tsl/framework/cpu_allocator_impl.cc:83] Allocation of 48570368 exceeds 10% of free system memory.\n",
      "2025-08-05 17:12:32.253986: W external/local_tsl/tsl/framework/cpu_allocator_impl.cc:83] Allocation of 48570368 exceeds 10% of free system memory.\n"
     ]
    },
    {
     "name": "stdout",
     "output_type": "stream",
     "text": [
      "\u001b[1m64/64\u001b[0m \u001b[32m━━━━━━━━━━━━━━━━━━━━\u001b[0m\u001b[37m\u001b[0m \u001b[1m0s\u001b[0m 3s/step - accuracy: 0.5338 - loss: 0.9676 - precision: 0.5730 - recall: 0.4634\n",
      "Epoch 1: val_accuracy improved from None to 0.31641, saving model to /home/ngabotech/Desktop/Flower_classification/backend/models/best_model.keras\n",
      "\u001b[1m64/64\u001b[0m \u001b[32m━━━━━━━━━━━━━━━━━━━━\u001b[0m\u001b[37m\u001b[0m \u001b[1m242s\u001b[0m 4s/step - accuracy: 0.5835 - loss: 0.8840 - precision: 0.6179 - recall: 0.5263 - val_accuracy: 0.3164 - val_loss: 1.1525 - val_precision: 0.3208 - val_recall: 0.2832 - learning_rate: 0.0010\n",
      "Epoch 2/30\n",
      "\u001b[1m 1/64\u001b[0m \u001b[37m━━━━━━━━━━━━━━━━━━━━\u001b[0m \u001b[1m5:06\u001b[0m 5s/step - accuracy: 0.7188 - loss: 0.6543 - precision: 0.7586 - recall: 0.6875\n",
      "Epoch 2: val_accuracy did not improve from 0.31641\n",
      "\u001b[1m64/64\u001b[0m \u001b[32m━━━━━━━━━━━━━━━━━━━━\u001b[0m\u001b[37m\u001b[0m \u001b[1m29s\u001b[0m 390ms/step - accuracy: 0.7188 - loss: 0.6543 - precision: 0.7586 - recall: 0.6875 - val_accuracy: 0.3164 - val_loss: 1.1518 - val_precision: 0.3179 - val_recall: 0.2812 - learning_rate: 0.0010\n",
      "Epoch 3/30\n",
      "\u001b[1m64/64\u001b[0m \u001b[32m━━━━━━━━━━━━━━━━━━━━\u001b[0m\u001b[37m\u001b[0m \u001b[1m0s\u001b[0m 3s/step - accuracy: 0.6500 - loss: 0.7552 - precision: 0.6734 - recall: 0.6040\n",
      "Epoch 3: val_accuracy did not improve from 0.31641\n",
      "\u001b[1m64/64\u001b[0m \u001b[32m━━━━━━━━━━━━━━━━━━━━\u001b[0m\u001b[37m\u001b[0m \u001b[1m217s\u001b[0m 3s/step - accuracy: 0.6568 - loss: 0.7587 - precision: 0.6864 - recall: 0.6100 - val_accuracy: 0.3145 - val_loss: 1.2619 - val_precision: 0.3151 - val_recall: 0.3145 - learning_rate: 0.0010\n",
      "Epoch 4/30\n",
      "\u001b[1m 1/64\u001b[0m \u001b[37m━━━━━━━━━━━━━━━━━━━━\u001b[0m \u001b[1m2:54\u001b[0m 3s/step - accuracy: 0.7188 - loss: 0.7329 - precision: 0.7333 - recall: 0.6875\n",
      "Epoch 4: val_accuracy did not improve from 0.31641\n",
      "\u001b[1m64/64\u001b[0m \u001b[32m━━━━━━━━━━━━━━━━━━━━\u001b[0m\u001b[37m\u001b[0m \u001b[1m14s\u001b[0m 172ms/step - accuracy: 0.7188 - loss: 0.7329 - precision: 0.7333 - recall: 0.6875 - val_accuracy: 0.3164 - val_loss: 1.2496 - val_precision: 0.3189 - val_recall: 0.3164 - learning_rate: 0.0010\n",
      "Epoch 5/30\n",
      "\u001b[1m64/64\u001b[0m \u001b[32m━━━━━━━━━━━━━━━━━━━━\u001b[0m\u001b[37m\u001b[0m \u001b[1m0s\u001b[0m 3s/step - accuracy: 0.7050 - loss: 0.7058 - precision: 0.7324 - recall: 0.6587\n",
      "Epoch 5: ReduceLROnPlateau reducing learning rate to 0.0005000000237487257.\n",
      "\n",
      "Epoch 5: val_accuracy did not improve from 0.31641\n",
      "\u001b[1m64/64\u001b[0m \u001b[32m━━━━━━━━━━━━━━━━━━━━\u001b[0m\u001b[37m\u001b[0m \u001b[1m192s\u001b[0m 3s/step - accuracy: 0.7011 - loss: 0.6943 - precision: 0.7273 - recall: 0.6553 - val_accuracy: 0.3164 - val_loss: 1.2052 - val_precision: 0.3264 - val_recall: 0.3047 - learning_rate: 0.0010\n",
      "Epoch 6/30\n",
      "\u001b[1m 1/64\u001b[0m \u001b[37m━━━━━━━━━━━━━━━━━━━━\u001b[0m \u001b[1m2:58\u001b[0m 3s/step - accuracy: 0.7188 - loss: 0.6330 - precision: 0.7333 - recall: 0.6875\n",
      "Epoch 6: val_accuracy did not improve from 0.31641\n",
      "\u001b[1m64/64\u001b[0m \u001b[32m━━━━━━━━━━━━━━━━━━━━\u001b[0m\u001b[37m\u001b[0m \u001b[1m14s\u001b[0m 181ms/step - accuracy: 0.7188 - loss: 0.6330 - precision: 0.7333 - recall: 0.6875 - val_accuracy: 0.3164 - val_loss: 1.2064 - val_precision: 0.3230 - val_recall: 0.3047 - learning_rate: 5.0000e-04\n",
      "Epoch 6: early stopping\n",
      "Restoring model weights from the end of the best epoch: 1.\n",
      "✅ Training completed and model saved\n"
     ]
    }
   ],
   "source": [
    "# Callbacks\n",
    "callbacks = [\n",
    "    EarlyStopping(\n",
    "        monitor='val_accuracy',\n",
    "        patience=CONFIG['EARLY_STOPPING_PATIENCE'],\n",
    "        restore_best_weights=True,\n",
    "        verbose=1\n",
    "    ),\n",
    "    ReduceLROnPlateau(\n",
    "        monitor='val_loss',\n",
    "        factor=0.5,\n",
    "        patience=CONFIG['REDUCE_LR_PATIENCE'],\n",
    "        min_lr=1e-6,\n",
    "        verbose=1\n",
    "    ),\n",
    "    ModelCheckpoint(\n",
    "        os.path.join(MODELS_DIR, 'best_model.keras'),\n",
    "        monitor='val_accuracy',\n",
    "        save_best_only=True,\n",
    "        verbose=1\n",
    "    )\n",
    "]\n",
    "\n",
    "# Training\n",
    "print(\"🚀 Starting training...\")\n",
    "history = model.fit(\n",
    "    train_gen,\n",
    "    steps_per_epoch=train_gen.samples // CONFIG['BATCH_SIZE'],\n",
    "    validation_data=val_gen,\n",
    "    validation_steps=val_gen.samples // CONFIG['BATCH_SIZE'],\n",
    "    epochs=CONFIG['EPOCHS'],\n",
    "    callbacks=callbacks,\n",
    "    class_weight=preprocessor.get_class_weights()\n",
    ")\n",
    "\n",
    "# Save final model\n",
    "model.save(os.path.join(MODELS_DIR, 'final_model.keras'))\n",
    "print(\"✅ Training completed and model saved\")"
   ]
  },
  {
   "cell_type": "markdown",
   "metadata": {},
   "source": [
    "## 6. Evaluation"
   ]
  },
  {
   "cell_type": "code",
   "execution_count": 7,
   "metadata": {},
   "outputs": [
    {
     "name": "stdout",
     "output_type": "stream",
     "text": [
      "🧪 Evaluating model...\n",
      "\u001b[1m7/7\u001b[0m \u001b[32m━━━━━━━━━━━━━━━━━━━━\u001b[0m\u001b[37m\u001b[0m \u001b[1m3s\u001b[0m 447ms/step - accuracy: 0.2857 - loss: 1.1471 - precision: 0.2984 - recall: 0.2714\n",
      "\n",
      "📊 Test Results:\n",
      "  Loss: 1.1471\n",
      "  Accuracy: 0.2857\n",
      "  Precision: 0.2984\n",
      "  Recall: 0.2714\n",
      "\u001b[1m7/7\u001b[0m \u001b[32m━━━━━━━━━━━━━━━━━━━━\u001b[0m\u001b[37m\u001b[0m \u001b[1m4s\u001b[0m 469ms/step\n",
      "\n",
      "📋 Classification Report:\n",
      "              precision    recall  f1-score   support\n",
      "\n",
      "        rose       0.29      1.00      0.44        60\n",
      "       tulip       0.00      0.00      0.00        75\n",
      "   sunflower       0.00      0.00      0.00        75\n",
      "\n",
      "    accuracy                           0.29       210\n",
      "   macro avg       0.10      0.33      0.15       210\n",
      "weighted avg       0.08      0.29      0.13       210\n",
      "\n"
     ]
    },
    {
     "data": {
      "image/png": "[encoded data removed]",
      "text/plain": [
       "<Figure size 800x600 with 2 Axes>"
      ]
     },
     "metadata": {},
     "output_type": "display_data"
    }
   ],
   "source": [
    "# Evaluate on test set\n",
    "print(\"🧪 Evaluating model...\")\n",
    "test_results = model.evaluate(test_gen)\n",
    "print(f\"\\n📊 Test Results:\")\n",
    "print(f\"  Loss: {test_results[0]:.4f}\")\n",
    "print(f\"  Accuracy: {test_results[1]:.4f}\")\n",
    "print(f\"  Precision: {test_results[2]:.4f}\")\n",
    "print(f\"  Recall: {test_results[3]:.4f}\")\n",
    "\n",
    "# Generate predictions\n",
    "y_pred = model.predict(test_gen)\n",
    "y_pred_classes = np.argmax(y_pred, axis=1)\n",
    "y_true = test_gen.classes\n",
    "\n",
    "# Classification report\n",
    "print(\"\\n📋 Classification Report:\")\n",
    "print(classification_report(\n",
    "    y_true, \n",
    "    y_pred_classes, \n",
    "    target_names=CONFIG['CLASS_NAMES']))\n",
    "\n",
    "# Confusion matrix\n",
    "plt.figure(figsize=(8, 6))\n",
    "cm = confusion_matrix(y_true, y_pred_classes)\n",
    "sns.heatmap(cm, annot=True, fmt='d', cmap='Blues', \n",
    "            xticklabels=CONFIG['CLASS_NAMES'], \n",
    "            yticklabels=CONFIG['CLASS_NAMES'])\n",
    "plt.title('Confusion Matrix')\n",
    "plt.xlabel('Predicted')\n",
    "plt.ylabel('Actual')\n",
    "plt.show()"
   ]
  },
  {
   "cell_type": "markdown",
   "metadata": {},
   "source": [
    "## 7. Model Deployment"
   ]
  },
  {
   "cell_type": "code",
   "execution_count": 8,
   "metadata": {},
   "outputs": [
    {
     "name": "stdout",
     "output_type": "stream",
     "text": [
      "✅ Deployment artifacts saved:\n",
      "  - Model: /home/ngabotech/Desktop/Flower_classification/backend/models/final_model.keras\n",
      "  - Metadata: /home/ngabotech/Desktop/Flower_classification/backend/models/model_metadata.json\n"
     ]
    }
   ],
   "source": [
    "# Save metadata\n",
    "metadata = {\n",
    "    'model_name': 'flower_classifier',\n",
    "    'version': '1.0.0',\n",
    "    'date_trained': datetime.now().isoformat(),\n",
    "    'classes': CONFIG['CLASS_NAMES'],\n",
    "    'class_indices': train_gen.class_indices,\n",
    "    'input_shape': (*CONFIG['INPUT_SIZE'], 3),\n",
    "    'training_metrics': {\n",
    "        'final_accuracy': history.history['accuracy'][-1],\n",
    "        'final_val_accuracy': history.history['val_accuracy'][-1],\n",
    "        'test_accuracy': test_results[1]\n",
    "    },\n",
    "    'training_config': CONFIG\n",
    "}\n",
    "\n",
    "with open(os.path.join(MODELS_DIR, 'model_metadata.json'), 'w') as f:\n",
    "    json.dump(metadata, f, indent=2)\n",
    "\n",
    "print(\"✅ Deployment artifacts saved:\")\n",
    "print(f\"  - Model: {os.path.join(MODELS_DIR, 'final_model.keras')}\")\n",
    "print(f\"  - Metadata: {os.path.join(MODELS_DIR, 'model_metadata.json')}\")"
   ]
  }
 ],
 "metadata": {
  "kernelspec": {
   "display_name": ".venv",
   "language": "python",
   "name": "python3"
  },
  "language_info": {
   "codemirror_mode": {
    "name": "ipython",
    "version": 3
   },
   "file_extension": ".py",
   "mimetype": "text/x-python",
   "name": "python",
   "nbconvert_exporter": "python",
   "pygments_lexer": "ipython3",
   "version": "3.12.3"
  }
 },
 "nbformat": 4,
 "nbformat_minor": 4
}
